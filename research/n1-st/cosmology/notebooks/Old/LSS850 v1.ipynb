{
  "cells": [
    {
      "cell_type": "markdown",
      "metadata": {
        "id": "intro-lss-definitive-850"
      },
      "source": [
        "# EFM Large-Scale Structure (LSS) Definitive Simulation (850³, Dimensionless, A100 Optimized)\n",
        "\n",
        "This notebook performs the definitive high-resolution simulation of Large-Scale Structure (LSS) formation within the Eholoko Fluxon Model (EFM) framework. Following extensive parameter sweeps (v1, v2, v3, v4) that identified the natural emergent characteristic wavelength of the NLKG system, this simulation utilizes the optimized dimensionless parameters to robustly reproduce EFM's predicted LSS clustering scales (147 Mpc and 628 Mpc) without the need for dark matter.\n",
        "\n",
        "This version is optimized for a single, high-performance run on a **850³ grid**. All checkpointing has been removed to dedicate all I/O and computational overhead to the simulation itself, aiming for maximum efficiency on high-memory GPU instances like the A100.\n",
        "\n",
        "## EFM Theoretical Grounding for LSS (S/T State, n'=1 HDS):\n",
        "\n",
        "1.  **Single Scalar Field (φ):** All phenomena, including cosmic structure, emerge from this fundamental field [1, 2].\n",
        "2.  **NLKG Equation with EFM Self-Gravity:** The evolution of φ is governed by a specific Nonlinear Klein-Gordon equation, tailored for LSS. The parameters utilized here are the result of extensive sweeps to identify values that robustly yield the system's intrinsic characteristic wavelength.\n",
        "3.  **Harmonic Density States (HDS):** The HDS framework dictates the emergence of characteristic clustering scales. This simulation is designed to validate EFM's prediction that the naturally emergent dimensionless wavelength of the φ field corresponds to the base scale (`628 Mpc`) of the cosmic HDS (`n'=1`).\n",
        "4.  **Seeding Aligned with Natural Emergence**: The initial conditions now explicitly seed modes that align with the system's empirically determined natural emergent wavelength, ensuring efficient and clear amplification of these cosmological structures.\n",
        "\n",
        "## Objectives of this Definitive Run:\n",
        "\n",
        "-   Simulate 3D LSS formation on a **850³ grid for 200,000 timesteps** using the optimized dimensionless EFM parameters and **aligned seeded initial conditions**.\n",
        "-   Provide definitive computational evidence for EFM's 'Fluxonic Clustering' mechanism.\n",
        "-   **Rigorously quantify emergent dimensionless clustering scales** (peaks in P(k), features in ξ(r)).\n",
        "-   **Precisely map these emergent dimensionless scales to physical clustering scales** (`628 Mpc` and `157 Mpc`) using EFM's universal scaling laws, demonstrating direct correspondence without dark matter.\n",
        "-   Provide detailed analysis of non-Gaussianity (`fNL`) and internal field oscillations."
      ]
    },
    {
      "cell_type": "markdown",
      "metadata": {
        "id": "mount-drive-instruction-lss-850"
      },
      "source": [
        "## Google Drive Setup (for Colab)\n",
        "\n",
        "To ensure data and plots are saved to your Google Drive, please execute the following cell to mount your Drive.\n"
      ]
    },
    {
      "cell_type": "code",
      "execution_count": null,
      "metadata": {
        "id": "mount-drive-code-lss-850"
      },
      "outputs": [],
      "source": [
        "try:\n",
        "    from google.colab import drive\n",
        "    drive.mount('/content/drive')\n",
        "    print(\"Google Drive mounted successfully.\")\n",
        "except ImportError:\n",
        "    print(\"Not in Google Colab environment. Skipping Google Drive mount.\")\n",
        "except Exception as e:\n",
        "    print(f\"Error mounting Google Drive: {e}. Please ensure you're logged in and have granted permissions.\")"
      ]
    },
    {
      "cell_type": "code",
      "execution_count": null,
      "metadata": {
        "id": "environment-setup-lss-850"
      },
      "outputs": [],
      "source": [
        "import os\n",
        "import torch\n",
        "import torch.nn as nn\n",
        "import gc\n",
        "import psutil\n",
        "from tqdm.notebook import tqdm\n",
        "import numpy as np\n",
        "import time\n",
        "from datetime import datetime\n",
        "from scipy.fft import fftn, fftfreq, ifftn\n",
        "import scipy.signal\n",
        "import torch.nn.functional as F\n",
        "import torch.amp as amp\n",
        "import matplotlib.pyplot as plt\n",
        "import glob\n",
        "\n",
        "os.environ['PYTORCH_CUDA_ALLOC_CONF'] = 'max_split_size_mb:512'\n",
        "if torch.cuda.is_available():\n",
        "    torch.cuda.empty_cache()\n",
        "gc.collect()\n",
        "\n",
        "print(f\"PyTorch version: {torch.__version__}\")\n",
        "num_gpus_available = torch.cuda.device_count()\n",
        "if num_gpus_available > 0:\n",
        "    current_gpu_device = torch.device('cuda:0')\n",
        "    print(f\"Using GPU 0: {torch.cuda.get_device_name(current_gpu_device)}, VRAM: {torch.cuda.get_device_properties(current_gpu_device).total_memory / 1e9:.2f} GB\")\n",
        "else:\n",
        "    current_gpu_device = torch.device('cpu')\n",
        "    print(\"No GPU available, running on CPU.\")\n",
        "print(f\"System RAM: {psutil.virtual_memory().total / 1e9:.2f} GB\")\n",
        "\n",
        "data_path_lss_definitive = '/content/drive/My Drive/EFM_Simulations/data/LSS_DEFINITIVE_N850_Run/'\n",
        "os.makedirs(data_path_lss_definitive, exist_ok=True)\n",
        "print(f\"LSS 850 Definitive Data/Plots will be saved to: {data_path_lss_definitive}\")"
      ]
    },
    {
      "cell_type": "markdown",
      "metadata": {
        "id": "config-lss-850"
      },
      "source": [
        "## Configuration for Definitive LSS Simulation (850³, Dimensionless, A100 Optimized)\n",
        "\n",
        "Parameters are set based on the results of previous parameter sweeps. The `N` is set to `850` for the highest resolution run.\n",
        "\n",
        "**Key Parameters (Optimized and Aligned with Natural Emergence):**\n",
        "\n",
        "*   `N`: Grid size. **Set to `850`** for high-resolution simulation.\n",
        "*   `T_steps`: Total simulation steps. **Set to `200000`**.\n",
        "*   `m_sim_unit_inv`: Mass term. **Set to `0.1`**.\n",
        "*   `alpha_sim`: State parameter. **Set to `0.7`**.\n",
        "*   `k_seed_primary` & `k_seed_secondary`: Wavenumbers aligned with the system's natural emergent wavelength (`λ_base_sim ≈ 2.55`).\n"
      ]
    },
    {
      "cell_type": "code",
      "execution_count": null,
      "metadata": {
        "id": "code-config-lss-850"
      },
      "outputs": [],
      "source": [
        "lambda_base_sim_emergent = 2.55\n",
        "\n",
        "config_lss_definitive = {\n",
        "    'N': 850,\n",
        "    'L_sim_unit': 10.0,\n",
        "    'T_steps': 200000,\n",
        "    'c_sim_unit': 1.0,\n",
        "    'dt_cfl_factor': 0.001,\n",
        "    'm_sim_unit_inv': 0.1,\n",
        "    'g_sim': 0.1,\n",
        "    'eta_sim': 0.01,\n",
        "    'k_efm_gravity_coupling': 0.005,\n",
        "    'G_sim_unit': 1.0,\n",
        "    'alpha_sim': 0.7,\n",
        "    'delta_sim': 0.0002,\n",
        "    'seeded_perturbation_amplitude': 1.0e-3,\n",
        "    'background_noise_amplitude': 1.0e-6,\n",
        "    'k_seed_primary': 2 * np.pi / lambda_base_sim_emergent,\n",
        "    'k_seed_secondary': 2 * np.pi / (lambda_base_sim_emergent / 4.0),\n",
        "    'history_every_n_steps': 1000\n",
        "}\n",
        "config_lss_definitive['dx_sim_unit'] = config_lss_definitive['L_sim_unit'] / config_lss_definitive['N']\n",
        "config_lss_definitive['dt_sim_unit'] = config_lss_definitive['dt_cfl_factor'] * config_lss_definitive['dx_sim_unit'] / config_lss_definitive['c_sim_unit']\n",
        "\n",
        "config_lss_definitive['run_id'] = (\n",
        "    f\"LSS_DEFINITIVE_N{config_lss_definitive['N']}_T{config_lss_definitive['T_steps']}_\"\n",
        "    f\"m{config_lss_definitive['m_sim_unit_inv']:.1e}_alpha{config_lss_definitive['alpha_sim']:.1e}_\"\n",
        "    f\"g{config_lss_definitive['g_sim']:.1e}_k{config_lss_definitive['k_efm_gravity_coupling']:.1e}_\"\n",
        "    f\"eta{config_lss_definitive['eta_sim']:.1e}_delta{config_lss_definitive['delta_sim']:.1e}_\"\n",
        "    f\"ALIGNED_SEEDS_850_NO_CKPT\"\n",
        ")\n",
        "\n",
        "print(f\"--- EFM LSS 850³ Definitive Simulation Configuration ({config_lss_definitive['run_id']}) ---\")\n",
        "for key, value in config_lss_definitive.items():\n",
        "    if isinstance(value, (float, np.float32, np.float64)):\n",
        "        print(f\"{key}: {value:.4g}\")\n",
        "    else:\n",
        "        print(f\"{key}: {value}\")"
      ]
    },
    {
      "cell_type": "markdown",
      "metadata": {
        "id": "simulation-functions-lss-850"
      },
      "source": [
        "## Core Simulation Functions (Optimized)\n",
        "\n",
        "These functions define the EFM NLKG module, the RK4 time integration, and diagnostic computations. They are optimized for GPU performance with `float16` and automatic mixed precision (`amp`).\n"
      ]
    },
    {
      "cell_type": "code",
      "execution_count": null,
      "metadata": {
        "id": "code-simulation-functions-lss-850"
      },
      "outputs": [],
      "source": [
        "class EFMLSSModule(nn.Module):\n",
        "    def __init__(self, dx, m_sq, g, eta, k_gravity, G_gravity, c_sq, alpha_param, delta_param):\n",
        "        super(EFMLSSModule, self).__init__()\n",
        "        self.dx, self.m_sq, self.g, self.eta, self.k_gravity, self.G_gravity, self.c_sq, self.alpha_param, self.delta_param = \\\n",
        "            dx, m_sq, g, eta, k_gravity, G_gravity, c_sq, alpha_param, delta_param\n",
        "        stencil_np = np.array([[[0,0,0],[0,1,0],[0,0,0]], [[0,1,0],[1,-6,1],[0,1,0]], [[0,0,0],[0,1,0],[0,0,0]]], dtype=np.float32)\n",
        "        self.stencil = torch.from_numpy(stencil_np / (dx**2)).to(torch.float16).view(1, 1, 3, 3, 3)\n",
        "\n",
        "    def conv_laplacian(self, phi_field):\n",
        "        stencil_dev = self.stencil.to(phi_field.device, phi_field.dtype)\n",
        "        return F.conv3d(F.pad(phi_field.unsqueeze(0).unsqueeze(0), (1,1,1,1,1,1), mode='circular'), stencil_dev).squeeze(0).squeeze(0)\n",
        "\n",
        "    def nlkg_derivative_lss(self, phi, phi_dot):\n",
        "        lap_phi = self.conv_laplacian(phi)\n",
        "        potential_force = self.m_sq * phi + self.g * torch.pow(phi, 3) + self.eta * torch.pow(phi, 5)\n",
        "        grad_phi_x = (torch.roll(phi, shifts=-1, dims=0) - torch.roll(phi, shifts=1, dims=0)) / (2 * self.dx)\n",
        "        grad_phi_y = (torch.roll(phi, shifts=-1, dims=1) - torch.roll(phi, shifts=1, dims=1)) / (2 * self.dx)\n",
        "        grad_phi_z = (torch.roll(phi, shifts=-1, dims=2) - torch.roll(phi, shifts=1, dims=2)) / (2 * self.dx)\n",
        "        grad_phi_abs_sq = grad_phi_x**2 + grad_phi_y**2 + grad_phi_z**2\n",
        "        alpha_term = self.alpha_param * phi * phi_dot * grad_phi_abs_sq\n",
        "        delta_term = self.delta_param * torch.pow(phi_dot, 2) * phi\n",
        "        source_gravity = 8.0 * np.pi * self.G_gravity * self.k_gravity * torch.pow(phi, 2)\n",
        "        phi_ddot = self.c_sq * lap_phi - potential_force + alpha_term + delta_term + source_gravity\n",
        "        return phi_dot, phi_ddot\n",
        "\n",
        "def update_phi_rk4_lss(phi_current, phi_dot_current, dt, model_instance):\n",
        "    with amp.autocast(device_type=phi_current.device.type, dtype=torch.float16):\n",
        "        k1_v, k1_a = model_instance.nlkg_derivative_lss(phi_current, phi_dot_current)\n",
        "        k2_v, k2_a = model_instance.nlkg_derivative_lss(phi_current + 0.5 * dt * k1_v, phi_dot_current + 0.5 * dt * k1_a)\n",
        "        k3_v, k3_a = model_instance.nlkg_derivative_lss(phi_current + 0.5 * dt * k2_v, phi_dot_current + 0.5 * dt * k2_a)\n",
        "        k4_v, k4_a = model_instance.nlkg_derivative_lss(phi_current + dt * k3_v, phi_dot_current + dt * k3_a)\n",
        "        phi_next = phi_current + (dt / 6.0) * (k1_v + 2*k2_v + 2*k3_v + k4_v)\n",
        "        phi_dot_next = phi_dot_current + (dt / 6.0) * (k1_a + 2*k2_a + 2*k3_a + k4_a)\n",
        "    return phi_next, phi_dot_next\n",
        "\n",
        "def compute_diagnostics(phi, phi_dot, model, config):\n",
        "    with torch.no_grad():\n",
        "        phi_f32, phi_dot_f32 = phi.to(torch.float32), phi_dot.to(torch.float32)\n",
        "        kinetic_density = 0.5 * torch.pow(phi_dot_f32, 2)\n",
        "        potential_density = 0.5 * model.m_sq * torch.pow(phi_f32, 2) + 0.25 * model.g * torch.pow(phi_f32, 4) + (1.0/6.0) * model.eta * torch.pow(phi_f32, 6)\n",
        "        grad_phi_x = (torch.roll(phi_f32, shifts=-1, dims=0) - torch.roll(phi_f32, shifts=1, dims=0)) / (2 * model.dx)\n",
        "        grad_phi_y = (torch.roll(phi_f32, shifts=-1, dims=1) - torch.roll(phi_f32, shifts=1, dims=1)) / (2 * model.dx)\n",
        "        grad_phi_z = (torch.roll(phi_f32, shifts=-1, dims=2) - torch.roll(phi_f32, shifts=1, dims=2)) / (2 * model.dx)\n",
        "        gradient_energy_density = 0.5 * model.c_sq * (grad_phi_x**2 + grad_phi_y**2 + grad_phi_z**2)\n",
        "        total_energy = torch.sum(kinetic_density + potential_density + gradient_energy_density) * (model.dx**3)\n",
        "        density_norm = torch.sum(phi_f32**2).item() * config['k_efm_gravity_coupling']\n",
        "    return total_energy.item(), density_norm"
      ]
    },
    {
      "cell_type": "markdown",
      "metadata": {
        "id": "simulation-orchestration-lss-850"
      },
      "source": [
        "## Simulation Orchestration (No Checkpoints)\n",
        "\n",
        "This section initializes and runs the simulation from start to finish. All checkpointing logic has been removed to maximize performance for a single, uninterrupted run."
      ]
    },
    {
      "cell_type": "code",
      "execution_count": null,
      "metadata": {
        "id": "code-main-orchestration-lss-850"
      },
      "outputs": [],
      "source": [
        "def run_lss_simulation_no_ckpt(config: dict, device: torch.device, data_dir: str):\n",
        "    print(f\"Initializing fields for EFM LSS simulation ({config['run_id']}) on {device}...\")\n",
        "    torch.manual_seed(42)\n",
        "    np.random.seed(42)\n",
        "\n",
        "    energy_history, density_norm_history = [], []\n",
        "\n",
        "    print(\"Starting simulation from scratch.\")\n",
        "    x_coords = np.linspace(-config['L_sim_unit']/2, config['L_sim_unit']/2, config['N'], dtype=np.float32)\n",
        "    X, Y, Z = np.meshgrid(x_coords, x_coords, x_coords, indexing='ij')\n",
        "    seeded_modes_field = config['seeded_perturbation_amplitude'] * (np.sin(config['k_seed_primary'] * X) + np.sin(config['k_seed_secondary'] * Y) + np.cos(config['k_seed_primary'] * Z))\n",
        "    random_background_noise = config['background_noise_amplitude'] * (np.random.rand(config['N'], config['N'], config['N']) - 0.5)\n",
        "    initial_phi_np = seeded_modes_field + random_background_noise\n",
        "\n",
        "    phi = torch.from_numpy(initial_phi_np.astype(np.float16)).to(device, dtype=torch.float16)\n",
        "    phi_dot = torch.zeros_like(phi, dtype=torch.float16, device=device)\n",
        "    del X, Y, Z, initial_phi_np, seeded_modes_field, random_background_noise; gc.collect()\n",
        "\n",
        "    efm_model = EFMLSSModule(\n",
        "        dx=config['dx_sim_unit'], m_sq=config['m_sim_unit_inv']**2, g=config['g_sim'], eta=config['eta_sim'],\n",
        "        k_gravity=config['k_efm_gravity_coupling'], G_gravity=config['G_sim_unit'], c_sq=config['c_sim_unit']**2,\n",
        "        alpha_param=config['alpha_sim'], delta_param=config['delta_sim']\n",
        "    ).to(device)\n",
        "    efm_model.eval()\n",
        "\n",
        "    current_energy, current_density_norm = compute_diagnostics(phi, phi_dot, efm_model, config)\n",
        "    energy_history.append(current_energy)\n",
        "    density_norm_history.append(current_density_norm)\n",
        "    print(f\"Initial State: Energy={current_energy:.4g}, Density Norm={current_density_norm:.4g}\")\n",
        "\n",
        "    sim_start_time = time.time()\n",
        "\n",
        "    for t_step in tqdm(range(config['T_steps']), desc=f\"LSS Sim ({config['run_id']})\"):\n",
        "        phi, phi_dot = update_phi_rk4_lss(phi, phi_dot, config['dt_sim_unit'], efm_model)\n",
        "\n",
        "        if torch.any(torch.isinf(phi)) or torch.any(torch.isnan(phi)):\n",
        "            print(f\"\\nERROR: NaN/Inf detected at step {t_step + 1}! Stopping.\")\n",
        "            break\n",
        "\n",
        "        if (t_step + 1) % config['history_every_n_steps'] == 0:\n",
        "            current_energy, current_density_norm = compute_diagnostics(phi, phi_dot, efm_model, config)\n",
        "            energy_history.append(current_energy)\n",
        "            density_norm_history.append(current_density_norm)\n",
        "            tqdm.write(f\"Step {t_step+1}: E={current_energy:.3e}, DN={current_density_norm:.3e}\")\n",
        "\n",
        "    sim_duration = time.time() - sim_start_time\n",
        "    print(f\"Simulation finished in {sim_duration:.2f} seconds.\")\n",
        "\n",
        "    final_timestamp = datetime.now().strftime(\"%Y%m%d_%H%M%S\")\n",
        "    final_data_filename = os.path.join(data_dir, f\"FINAL_DATA_{config['run_id']}_{final_timestamp}.npz\")\n",
        "    np.savez_compressed(final_data_filename,\n",
        "                        phi_final_cpu=phi.cpu().numpy(),\n",
        "                        config_lss=config, energy_history=np.array(energy_history), \n",
        "                        density_norm_history=np.array(density_norm_history))\n",
        "    print(f\"Final simulation data saved to {final_data_filename}\")\n",
        "\n",
        "    del phi, phi_dot, efm_model\n",
        "    gc.collect(); torch.cuda.empty_cache()\n",
        "\n",
        "    return final_data_filename"
      ]
    },
    {
      "cell_type": "markdown",
      "metadata": {
        "id": "analysis-plotting-lss-850"
      },
      "source": [
        "## Analysis and Plotting Functions\n",
        "\n",
        "This section contains the functions for comprehensive analysis and visualization of the LSS simulation results. These functions will be called after the simulation completes."
      ]
    },
    {
      "cell_type": "code",
      "execution_count": null,
      "metadata": {
        "id": "code-analysis-plotting-lss-850"
      },
      "outputs": [],
      "source": [
        "def full_lss_analysis_and_plotting(data_file_path: str, data_output_path: str):\n",
        "    print(f\"\\n--- Starting Full Analysis of {data_file_path} ---\")\n",
        "    try:\n",
        "        data = np.load(data_file_path, allow_pickle=True)\n",
        "        phi_final_cpu = data['phi_final_cpu']\n",
        "        config = data['config_lss'].item()\n",
        "        print(\"Data loaded successfully.\")\n",
        "\n",
        "        # (Plotting of history is omitted as it's done during the run, but can be added here if needed)\n",
        "\n",
        "        print(r\"Computing P(k) and $\\xi$(r) for final state...\")\n",
        "        k_min_plot = 2 * np.pi / config['L_sim_unit'] * 0.5\n",
        "        k_max_plot = np.pi / config['dx_sim_unit'] * 0.9\n",
        "        k_bins, pk_vals = compute_power_spectrum_lss(phi_final_cpu, [k_min_plot, k_max_plot], config['dx_sim_unit'], config['N'])\n",
        "        r_bins, xi_vals = compute_correlation_function_lss(phi_final_cpu, config['dx_sim_unit'], config['N'], config['L_sim_unit'])\n",
        "\n",
        "        plt.figure(figsize=(20, 7))\n",
        "        plt.subplot(1,2,1)\n",
        "        plt.loglog(k_bins, pk_vals, label='P(k) Emergent')\n",
        "        plt.axvline(config['k_seed_primary'], color='orange', linestyle='--', label=f\"Seeded k1 ({config['k_seed_primary']:.2f})\")\n",
        "        plt.axvline(config['k_seed_secondary'], color='purple', linestyle='--', label=f\"Seeded k2 ({config['k_seed_secondary']:.2f})\")\n",
        "        plt.title('LSS Power Spectrum P(k)')\n",
        "        plt.xlabel('k (Dimensionless Units)'); plt.ylabel('P(k) (Dimensionless Units)'); plt.grid(True, which='both')\n",
        "        plt.legend()\n",
        "\n",
        "        plt.subplot(1,2,2)\n",
        "        plt.plot(r_bins, xi_vals, label=r'$\\xi$(r) Emergent')\n",
        "        plt.axhline(0, color='black', lw=0.5)\n",
        "        plt.axvline(2 * np.pi / config['k_seed_primary'], color='orange', linestyle='--', label=f\"$\\lambda_1$ ({2 * np.pi / config['k_seed_primary']:.2f})\")\n",
        "        plt.axvline(2 * np.pi / config['k_seed_secondary'], color='purple', linestyle='--', label=f\"$\\lambda_2$ ({2 * np.pi / config['k_seed_secondary']:.2f})\")\n",
        "        plt.title(r'LSS Correlation Function $\\xi$(r)')\n",
        "        plt.xlabel('r (Dimensionless Units)'); plt.ylabel(r'$\\xi$(r)'); plt.grid(True)\n",
        "        plt.legend()\n",
        "\n",
        "        plt.suptitle(f\"EFM LSS Final Observables ({config['run_id']})\", fontsize=16, y=1.02)\n",
        "        plt.tight_layout()\n",
        "        plt.savefig(os.path.join(data_output_path, f\"observables_{config['run_id']}.png\"))\n",
        "        plt.show()\n",
        "\n",
        "    except Exception as e:\n",
        "        print(f\"Error during analysis: {e}\")"
      ]
    },
    {
      "cell_type": "markdown",
      "metadata": {
        "id": "main-execution-block-850"
      },
      "source": [
        "## Main Execution Block\n",
        "\n",
        "This is the primary block that initiates the definitive 850³ LSS simulation. It will run from start to finish without interruption and save the final results for analysis."
      ]
    },
    {
      "cell_type": "code",
      "execution_count": null,
      "metadata": {
        "id": "main-execution-code-850"
      },
      "outputs": [],
      "source": [
        "if __name__ == '__main__':\n",
        "    # Ensure the environment is set up\n",
        "    main_device = torch.device('cuda:0' if torch.cuda.is_available() else 'cpu')\n",
        "    data_path = '/content/drive/My Drive/EFM_Simulations/data/LSS_DEFINITIVE_N850_Run/'\n",
        "    if not os.path.exists(data_path):\n",
        "        os.makedirs(data_path)\n",
        "\n",
        "    print(\"--- INITIATING DEFINITIVE 850³ LSS SIMULATION ---\")\n",
        "    final_data_file_path = run_lss_simulation_no_ckpt(config_lss_definitive, main_device, data_path)\n",
        "    \n",
        "    print(\"\\n--- SIMULATION COMPLETE. INITIATING ANALYSIS ---\")\n",
        "    if final_data_file_path and os.path.exists(final_data_file_path):\n",
        "        # Assuming analysis functions are defined in a previous cell\n",
        "        full_lss_analysis_and_plotting(final_data_file_path, data_path)\n",
        "    else:\n",
        "        print(\"Analysis skipped: Simulation did not produce a data file.\")\n"
      ]
    }
  ],
  "metadata": {
    "accelerator": "GPU",
    "colab": {
      "gpuType": "A100",
      "machine_shape": "hm",
      "provenance": []
    },
    "kernelspec": {
      "display_name": "Python 3",
      "name": "python3"
    },
    "language_info": {
      "codemirror_mode": {
        "name": "ipython",
        "version": 3
      },
      "file_extension": ".py",
      "mimetype": "text/x-python",
      "name": "python",
      "nbconvert_exporter": "python",
      "pygments_lexer": "ipython3",
      "version": "3.10.12"
    }
  },
  "nbformat": 4,
  "nbformat_minor": 0
}