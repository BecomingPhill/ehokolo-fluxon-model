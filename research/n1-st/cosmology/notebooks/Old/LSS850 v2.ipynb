{
  "cells": [
    {
      "cell_type": "markdown",
      "metadata": {
        "id": "intro-lss-definitive-850-jit"
      },
      "source": [
        "# EFM LSS Definitive Simulation (850³, JIT Optimized, GPU-Centric)\n",
        "\n",
        "This notebook performs the definitive high-resolution simulation of Large-Scale Structure (LSS) formation within the Eholoko Fluxon Model (EFM) framework. This version has been heavily optimized for maximum performance on high-memory A100 GPUs, incorporating advanced techniques identified from other high-performance EFM notebooks.\n",
        "\n",
        "**Key Optimizations Implemented:**\n",
        "\n",
        "1.  **JIT Compilation (`@torch.jit.script`):** The core simulation functions (Laplacian, NLKG derivative, and RK4 integrator) are JIT-compiled into fused CUDA kernels, eliminating Python overhead in the main loop for maximum speed.\n",
        "2.  **GPU-Centric Workflow:** All large tensors (initial fields, coordinate grids, damping masks) are created and manipulated directly on the GPU, avoiding costly CPU-GPU memory transfers.\n",
        "3.  **Advanced Mixed Precision:** Tensors are stored in memory-efficient `float16` format, but all critical physics calculations are performed in `float32` to ensure numerical stability and precision, preventing overflow/underflow issues.\n",
        "4.  **Vectorized Operations:** All initializations and boundary condition applications are fully vectorized to leverage the GPU's parallel processing power.\n",
        "5.  **No Checkpointing:** All intermediate checkpointing is removed to dedicate 100% of I/O and compute resources to the simulation itself for a single, uninterrupted high-performance run.\n",
        "\n",
        "## Objectives:\n",
        "\n",
        "-   Execute the fastest possible LSS simulation on a **850³ grid** for **200,000 timesteps**.\n",
        "-   Provide definitive computational evidence for EFM's 'Fluxonic Clustering' and its emergent spatial and temporal scales from first principles."
      ]
    },
    {
      "cell_type": "markdown",
      "metadata": {
        "id": "mount-drive-instruction-lss-850-jit"
      },
      "source": [
        "## Google Drive & Environment Setup"
      ]
    },
    {
      "cell_type": "code",
      "execution_count": null,
      "metadata": {
        "id": "environment-setup-lss-850-jit"
      },
      "outputs": [],
      "source": [
        "import os\n",
        "import torch\n",
        "import torch.nn.functional as F\n",
        "import gc\n",
        "import psutil\n",
        "from tqdm.notebook import tqdm\n",
        "import numpy as np\n",
        "import time\n",
        "from datetime import datetime\n",
        "from scipy.fft import fftn, fftfreq, ifftn\n",
        "import scipy.signal\n",
        "import matplotlib.pyplot as plt\n",
        "\n",
        "try:\n",
        "    from google.colab import drive\n",
        "    drive.mount('/content/drive')\n",
        "    print(\"Google Drive mounted successfully.\")\n",
        "except ImportError:\n",
        "    print(\"Not in Google Colab environment.\")\n",
        "\n",
        "os.environ['PYTORCH_CUDA_ALLOC_CONF'] = 'max_split_size_mb:512'\n",
        "if torch.cuda.is_available():\n",
        "    torch.cuda.empty_cache()\n",
        "gc.collect()\n",
        "\n",
        "print(f\"PyTorch version: {torch.__version__}\")\n",
        "if torch.cuda.is_available():\n",
        "    device = torch.device('cuda:0')\n",
        "    print(f\"Using GPU: {torch.cuda.get_device_name(device)}, VRAM: {torch.cuda.get_device_properties(device).total_memory / 1e9:.2f} GB\")\n",
        "else:\n",
        "    device = torch.device('cpu')\n",
        "    print(\"No GPU available, running on CPU.\")\n",
        "print(f\"System RAM: {psutil.virtual_memory().total / 1e9:.2f} GB\")\n",
        "\n",
        "data_path_lss_definitive = '/content/drive/My Drive/EFM_Simulations/data/LSS_DEFINITIVE_N850_Run/'\n",
        "os.makedirs(data_path_lss_definitive, exist_ok=True)\n",
        "print(f\"LSS 850³ Definitive Data/Plots will be saved to: {data_path_lss_definitive}\")"
      ]
    },
    {
      "cell_type": "markdown",
      "metadata": {
        "id": "config-lss-850-jit"
      },
      "source": [
        "## Configuration for 850³ Definitive LSS Simulation"
      ]
    },
    {
      "cell_type": "code",
      "execution_count": null,
      "metadata": {
        "id": "code-config-lss-850-jit"
      },
      "outputs": [],
      "source": [
        "lambda_base_sim_emergent = 2.55\n",
        "\n",
        "config_lss_definitive = {\n",
        "    'N': 850,\n",
        "    'L_sim_unit': 10.0,\n",
        "    'T_steps': 200000,\n",
        "    'c_sim_unit': 1.0,\n",
        "    'dt_cfl_factor': 0.001,\n",
        "    'm_sim_unit_inv': 0.1,\n",
        "    'g_sim': 0.1,\n",
        "    'eta_sim': 0.01,\n",
        "    'k_efm_gravity_coupling': 0.005,\n",
        "    'G_sim_unit': 1.0,\n",
        "    'alpha_sim': 0.7,\n",
        "    'delta_sim': 0.0002,\n",
        "    'seeded_perturbation_amplitude': 1.0e-3,\n",
        "    'background_noise_amplitude': 1.0e-6,\n",
        "    'k_seed_primary': 2 * np.pi / lambda_base_sim_emergent,\n",
        "    'k_seed_secondary': 2 * np.pi / (lambda_base_sim_emergent / 4.0),\n",
        "    'history_every_n_steps': 1000\n",
        "}\n",
        "config_lss_definitive['dx_sim_unit'] = config_lss_definitive['L_sim_unit'] / config_lss_definitive['N']\n",
        "config_lss_definitive['dt_sim_unit'] = config_lss_definitive['dt_cfl_factor'] * config_lss_definitive['dx_sim_unit'] / config_lss_definitive['c_sim_unit']\n",
        "\n",
        "config_lss_definitive['run_id'] = (\n",
        "    f\"LSS_DEFINITIVE_N{config_lss_definitive['N']}_T{config_lss_definitive['T_steps']}_\"\n",
        "    f\"m{config_lss_definitive['m_sim_unit_inv']:.1e}_alpha{config_lss_definitive['alpha_sim']:.1e}_\"\n",
        "    f\"JIT_OPTIMIZED\"\n",
        ")\n",
        "\n",
        "print(f\"--- EFM LSS 850³ JIT-Optimized Simulation Configuration ({config_lss_definitive['run_id']}) ---\")\n",
        "for key, value in config_lss_definitive.items():\n",
        "    if isinstance(value, (float, np.float32, np.float64)):\n",
        "        print(f\"{key}: {value:.4g}\")\n",
        "    else:\n",
        "        print(f\"{key}: {value}\")"
      ]
    },
    {
      "cell_type": "markdown",
      "metadata": {
        "id": "simulation-functions-lss-850-jit"
      },
      "source": [
        "## Core Simulation Functions (JIT-Compiled & Optimized)"
      ]
    },
    {
      "cell_type": "code",
      "execution_count": null,
      "metadata": {
        "id": "code-simulation-functions-lss-850-jit"
      },
      "outputs": [],
      "source": [
        "# --- OPTIMIZED & JIT-COMPILED SIMULATION FUNCTIONS --- #\n",
        "\n",
        "@torch.jit.script\n",
        "def conv_laplacian_lss_gpu(phi_field: torch.Tensor, dx: float) -> torch.Tensor:\n",
        "    stencil = torch.tensor([[[0.,0.,0.],[0.,1.,0.],[0.,0.,0.]],\n",
        "                            [[0.,1.,0.],[1.,-6.,1.],[0.,1.,0.]],\n",
        "                            [[0.,0.,0.],[0.,1.,0.],[0.,0.,0.]]],\n",
        "                           dtype=phi_field.dtype, device=phi_field.device) / (dx**2)\n",
        "    stencil = stencil.view(1, 1, 3, 3, 3)\n",
        "    phi_padded = F.pad(phi_field.unsqueeze(0).unsqueeze(0), (1, 1, 1, 1, 1, 1), mode='circular')\n",
        "    return F.conv3d(phi_padded, stencil, padding=0).squeeze(0).squeeze(0)\n",
        "\n",
        "@torch.jit.script\n",
        "def nlkg_derivative_lss_gpu(phi: torch.Tensor, phi_dot: torch.Tensor, m_sq: float, g: float, \n",
        "                            eta: float, k_gravity: float, G_gravity: float, c_sq: float, \n",
        "                            alpha_param: float, delta_param: float, dx: float) -> tuple[torch.Tensor, torch.Tensor]:\n",
        "    # Cast to float32 for stable intermediate calculations\n",
        "    phi_f32 = phi.to(torch.float32)\n",
        "    phi_dot_f32 = phi_dot.to(torch.float32)\n",
        "\n",
        "    lap_phi = conv_laplacian_lss_gpu(phi_f32, dx)\n",
        "    potential_force = m_sq * phi_f32 + g * torch.pow(phi_f32, 3) + eta * torch.pow(phi_f32, 5)\n",
        "\n",
        "    grad_phi_x = (torch.roll(phi_f32, shifts=-1, dims=0) - torch.roll(phi_f32, shifts=1, dims=0)) / (2 * dx)\n",
        "    grad_phi_y = (torch.roll(phi_f32, shifts=-1, dims=1) - torch.roll(phi_f32, shifts=1, dims=1)) / (2 * dx)\n",
        "    grad_phi_z = (torch.roll(phi_f32, shifts=-1, dims=2) - torch.roll(phi_f32, shifts=1, dims=2)) / (2 * dx)\n",
        "    grad_phi_abs_sq = grad_phi_x**2 + grad_phi_y**2 + grad_phi_z**2\n",
        "\n",
        "    alpha_term = alpha_param * phi_f32 * phi_dot_f32 * grad_phi_abs_sq\n",
        "    delta_term = delta_param * torch.pow(phi_dot_f32, 2) * phi_f32\n",
        "    source_gravity = 8.0 * torch.pi * G_gravity * k_gravity * torch.pow(phi_f32, 2)\n",
        "\n",
        "    phi_ddot = c_sq * lap_phi - potential_force + alpha_term + delta_term + source_gravity\n",
        "    return phi_dot, phi_ddot.to(phi.dtype)\n",
        "\n",
        "@torch.jit.script\n",
        "def update_phi_rk4_lss_gpu(phi_current: torch.Tensor, phi_dot_current: torch.Tensor, dt: float, \n",
        "                          m_sq: float, g: float, eta: float, k_gravity: float, G_gravity: float, \n",
        "                          c_sq: float, alpha_param: float, delta_param: float, dx: float) -> tuple[torch.Tensor, torch.Tensor]:\n",
        "    k1_v, k1_a = nlkg_derivative_lss_gpu(phi_current, phi_dot_current, m_sq, g, eta, k_gravity, G_gravity, c_sq, alpha_param, delta_param, dx)\n",
        "    k2_v, k2_a = nlkg_derivative_lss_gpu(phi_current + 0.5 * dt * k1_v, phi_dot_current + 0.5 * dt * k1_a, m_sq, g, eta, k_gravity, G_gravity, c_sq, alpha_param, delta_param, dx)\n",
        "    k3_v, k3_a = nlkg_derivative_lss_gpu(phi_current + 0.5 * dt * k2_v, phi_dot_current + 0.5 * dt * k2_a, m_sq, g, eta, k_gravity, G_gravity, c_sq, alpha_param, delta_param, dx)\n",
        "    k4_v, k4_a = nlkg_derivative_lss_gpu(phi_current + dt * k3_v, phi_dot_current + dt * k3_a, m_sq, g, eta, k_gravity, G_gravity, c_sq, alpha_param, delta_param, dx)\n",
        "\n",
        "    phi_next = phi_current + (dt / 6.0) * (k1_v + 2*k2_v + 2*k3_v + k4_v)\n",
        "    phi_dot_next = phi_dot_current + (dt / 6.0) * (k1_a + 2*k2_a + 2*k3_a + k4_a)\n",
        "    return phi_next, phi_dot_next\n",
        "\n",
        "def compute_diagnostics_lss_gpu(phi: torch.Tensor, phi_dot: torch.Tensor, config: dict) -> tuple[float, float]:\n",
        "    with torch.no_grad():\n",
        "        phi_f32, phi_dot_f32 = phi.to(torch.float32), phi_dot.to(torch.float32)\n",
        "        kinetic_density = 0.5 * torch.pow(phi_dot_f32, 2)\n",
        "        potential_density = 0.5 * (config['m_sim_unit_inv']**2) * torch.pow(phi_f32, 2) + 0.25 * config['g_sim'] * torch.pow(phi_f32, 4) + (1.0/6.0) * config['eta_sim'] * torch.pow(phi_f32, 6)\n",
        "        grad_phi_x = (torch.roll(phi_f32, shifts=-1, dims=0) - torch.roll(phi_f32, shifts=1, dims=0)) / (2 * config['dx_sim_unit'])\n",
        "        grad_phi_y = (torch.roll(phi_f32, shifts=-1, dims=1) - torch.roll(phi_f32, shifts=1, dims=1)) / (2 * config['dx_sim_unit'])\n",
        "        grad_phi_z = (torch.roll(phi_f32, shifts=-1, dims=2) - torch.roll(phi_f32, shifts=1, dims=2)) / (2 * config['dx_sim_unit'])\n",
        "        gradient_energy_density = 0.5 * (config['c_sim_unit']**2) * (grad_phi_x**2 + grad_phi_y**2 + grad_phi_z**2)\n",
        "        total_energy = torch.sum(kinetic_density + potential_density + gradient_energy_density) * (config['dx_sim_unit']**3)\n",
        "        density_norm = torch.sum(phi_f32**2).item() * config['k_efm_gravity_coupling']\n",
        "    return total_energy.item(), density_norm\n",
        "\n",
        "print(\"JIT-Optimized GPU-centric simulation functions defined.\")"
      ]
    },
    {
      "cell_type": "markdown",
      "metadata": {
        "id": "main-execution-block-850-jit"
      },
      "source": [
        "## Main Execution Block\n",
        "\n",
        "This is the primary block that initiates the definitive 850³ LSS simulation. It will run from start to finish without interruption and save the final results for analysis."
      ]
    },
    {
      "cell_type": "code",
      "execution_count": null,
      "metadata": {
        "id": "main-execution-code-850-jit"
      },
      "outputs": [],
      "source": [
        "if __name__ == '__main__':\n",
        "    print(\"--- INITIATING DEFINITIVE 850³ LSS SIMULATION ---\")\n",
        "    # Initialize Fields Directly on GPU\n",
        "    print(\"Initializing fields on GPU...\")\n",
        "    torch.manual_seed(42); np.random.seed(42)\n",
        "    coords = torch.linspace(-config_lss_definitive['L_sim_unit']/2, config_lss_definitive['L_sim_unit']/2, config_lss_definitive['N'], device=device)\n",
        "    X, Y, Z = torch.meshgrid(coords, coords, coords, indexing='ij')\n",
        "\n",
        "    seeded_modes = config_lss_definitive['seeded_perturbation_amplitude'] * (\n",
        "        torch.sin(config_lss_definitive['k_seed_primary'] * X) + \n",
        "        torch.sin(config_lss_definitive['k_seed_secondary'] * Y) + \n",
        "        torch.cos(config_lss_definitive['k_seed_primary'] * Z)\n",
        "    )\n",
        "    random_noise = torch.rand_like(X) - 0.5\n",
        "    phi_current = (seeded_modes + config_lss_definitive['background_noise_amplitude'] * random_noise).to(torch.float16)\n",
        "    phi_dot_current = torch.zeros_like(phi_current, dtype=torch.float16)\n",
        "    del X, Y, Z, coords, seeded_modes, random_noise; gc.collect(); torch.cuda.empty_cache()\n",
        "\n",
        "    # Prepare History Arrays\n",
        "    num_history_points = config_lss_definitive['T_steps'] // config_lss_definitive['history_every_n_steps'] + 1\n",
        "    energy_history = np.zeros(num_history_points)\n",
        "    density_norm_history = np.zeros(num_history_points)\n",
        "    history_idx = 0\n",
        "\n",
        "    # Calculate Initial Diagnostics\n",
        "    energy_history[history_idx], density_norm_history[history_idx] = compute_diagnostics_lss_gpu(phi_current, phi_dot_current, config_lss_definitive)\n",
        "    print(f\"Initial State: Energy={energy_history[history_idx]:.4g}, Density Norm={density_norm_history[history_idx]:.4g}\")\n",
        "    history_idx += 1\n",
        "\n",
        "    # Simulation Loop\n",
        "    print(f\"Starting LSS simulation loop for {config_lss_definitive['T_steps']} steps...\")\n",
        "    sim_start_time = time.time()\n",
        "    pbar = tqdm(range(config_lss_definitive['T_steps']), desc=f\"LSS Sim ({config_lss_definitive['N']}³)\")\n",
        "\n",
        "    for t_step in pbar:\n",
        "        # Perform RK4 update using JIT-compiled function\n",
        "        phi_current, phi_dot_current = update_phi_rk4_lss_gpu(\n",
        "            phi_current, phi_dot_current, config_lss_definitive['dt_sim_unit'],\n",
        "            config_lss_definitive['m_sim_unit_inv']**2, config_lss_definitive['g_sim'], config_lss_definitive['eta_sim'],\n",
        "            config_lss_definitive['k_efm_gravity_coupling'], config_lss_definitive['G_sim_unit'],\n",
        "            config_lss_definitive['c_sim_unit']**2, config_lss_definitive['alpha_sim'], \n",
        "            config_lss_definitive['delta_sim'], config_lss_definitive['dx_sim_unit']\n",
        "        )\n",
        "\n",
        "        if torch.any(torch.isinf(phi_current)) or torch.any(torch.isnan(phi_current)):\n",
        "            print(f\"\\nERROR: NaN/Inf detected at step {t_step + 1}! Stopping.\")\n",
        "            break\n",
        "\n",
        "        if (t_step + 1) % config_lss_definitive['history_every_n_steps'] == 0:\n",
        "            energy, dn = compute_diagnostics_lss_gpu(phi_current, phi_dot_current, config_lss_definitive)\n",
        "            energy_history[history_idx], density_norm_history[history_idx] = energy, dn\n",
        "            history_idx += 1\n",
        "            pbar.set_postfix({'E': f'{energy:.3e}', 'DN': f'{dn:.3e}'})\n",
        "            if np.isnan(energy) or np.isinf(energy):\n",
        "                print(f\"\\nInstability detected. Stopping.\")\n",
        "                break\n",
        "    \n",
        "    sim_duration = time.time() - sim_start_time\n",
        "    print(f\"Simulation finished in {sim_duration:.2f} seconds.\")\n",
        "\n",
        "    # Save Final State and History\n",
        "    final_timestamp = datetime.now().strftime(\"%Y%m%d_%H%M%S\")\n",
        "    final_data_filename = os.path.join(data_path_lss_definitive, f\"FINAL_DATA_{config_lss_definitive['run_id']}_{final_timestamp}.npz\")\n",
        "    np.savez_compressed(final_data_filename,\n",
        "                        phi_final_cpu=phi_current.cpu().numpy(),\n",
        "                        config_lss=config_lss_definitive, \n",
        "                        energy_history=energy_history[:history_idx],\n",
        "                        density_norm_history=density_norm_history[:history_idx])\n",
        "    print(f\"Final simulation data saved to {final_data_filename}\")\n",
        "\n",
        "    # Cleanup and Analysis\n",
        "    del phi_current, phi_dot_current; gc.collect(); torch.cuda.empty_cache()\n",
        "    print(\"\\n--- SIMULATION COMPLETE. INITIATING ANALYSIS ---\")\n",
        "    # Assuming analysis functions are defined (not included here for brevity)\n",
        "    # full_lss_analysis_and_plotting(final_data_filename, data_path_lss_definitive)\n"
      ]
    }
  ],
  "metadata": {
    "accelerator": "GPU",
    "colab": {
      "gpuType": "A100",
      "machine_shape": "hm",
      "provenance": []
    },
    "kernelspec": {
      "display_name": "Python 3",
      "name": "python3"
    },
    "language_info": {
      "codemirror_mode": {
        "name": "ipython",
        "version": 3
      },
      "file_extension": ".py",
      "mimetype": "text/x-python",
      "name": "python",
      "nbconvert_exporter": "python",
      "pygments_lexer": "ipython3",
      "version": "3.10.12"
    }
  },
  "nbformat": 4,
  "nbformat_minor": 0
}